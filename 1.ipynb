{
 "cells": [
  {
   "cell_type": "markdown",
   "id": "f99caa71",
   "metadata": {},
   "source": [
    "# different data bases\n"
   ]
  },
  {
   "cell_type": "markdown",
   "id": "29de48eb",
   "metadata": {},
   "source": []
  }
 ],
 "metadata": {
  "language_info": {
   "name": "python"
  }
 },
 "nbformat": 4,
 "nbformat_minor": 5
}
